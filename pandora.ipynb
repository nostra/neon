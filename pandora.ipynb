{
 "cells": [
  {
   "cell_type": "markdown",
   "id": "ecbf3044-d9f1-4438-8ec1-6e6ea1bfb846",
   "metadata": {
    "collapsed": false,
    "editable": true,
    "jupyter": {
     "outputs_hidden": false
    },
    "raw_mimetype": "",
    "slideshow": {
     "slide_type": "slide"
    },
    "tags": []
   },
   "source": [
    "# NeonPandora\n",
    "\n",
    "Goal: To start an empty Kubernetes cluster on your local laptop and:\n",
    "- establish a basis setup\n",
    "- set up internal docker repository\n",
    "- ssh server to use as internal git repository \n",
    "- create a Quarkus-based application\n",
    "- build the application in the cluster at check-in\n",
    "- continuous deployment\n",
    "- collect metrics from the application\n",
    "- get alerts"
   ]
  },
  {
   "cell_type": "markdown",
   "id": "ff92ec7e-711d-4141-b8c3-310d9b847d75",
   "metadata": {
    "collapsed": false,
    "editable": true,
    "jupyter": {
     "outputs_hidden": false
    },
    "slideshow": {
     "slide_type": "subslide"
    },
    "tags": []
   },
   "source": [
    "## About these slides\n",
    "\n",
    "These slides are written with [Jupyter Notebook](https://jupyter.org/) for ease of integrating with bash command line. \n",
    "\n",
    "When looking at the slides the `%%bash`-sections might be cut in the view. However, if you copy the contents they work fine."
   ]
  },
  {
   "cell_type": "code",
   "execution_count": null,
   "id": "b301cfd2139f20cf",
   "metadata": {
    "ExecuteTime": {
     "end_time": "2024-02-13T15:22:20.464117Z",
     "start_time": "2024-02-13T15:22:20.446091Z"
    },
    "collapsed": false,
    "editable": true,
    "jupyter": {
     "outputs_hidden": false
    },
    "slideshow": {
     "slide_type": ""
    },
    "tags": []
   },
   "outputs": [],
   "source": [
    "import notebook\n",
    "print(\"These slides were made with notebook version:\")\n",
    "print(notebook.__version__)"
   ]
  },
  {
   "cell_type": "markdown",
   "id": "b2841ebe-aa50-4d3b-845a-771a793ac749",
   "metadata": {
    "collapsed": false,
    "editable": true,
    "jupyter": {
     "outputs_hidden": false
    },
    "slideshow": {
     "slide_type": "slide"
    },
    "tags": []
   },
   "source": [
    "## Tooling - this gets used today\n",
    "\n",
    "Install:\n",
    "- https://docs.docker.com/install/\n",
    "- https://kubernetes.io/docs/tasks/tools/install-kubectl/\n",
    "- https://github.com/kubernetes-sigs/kind\n",
    "- https://fluxcd.io/docs/installation/#install-the-flux-cli\n",
    "- https://kubectl.docs.kubernetes.io/references/kustomize/\n",
    "- https://github.com/mikefarah/yq\n",
    "- https://quarkus.io/get-started/"
   ]
  },
  {
   "cell_type": "markdown",
   "id": "807f9558-335c-4a0e-a936-451b50aa076e",
   "metadata": {
    "collapsed": false,
    "editable": true,
    "jupyter": {
     "outputs_hidden": false
    },
    "slideshow": {
     "slide_type": "fragment"
    },
    "tags": []
   },
   "source": [
    "Note: On Mac you will need gnu-sed. To avoid forgetting this, the scripts here use `gsed`, and on Linux you need to replace this with `sed` - or create an alias.\n",
    "\n",
    "Also note the `yq` overlay of `jq`"
   ]
  },
  {
   "cell_type": "markdown",
   "id": "0f15496f-70bd-4fff-8f72-70bd7337135e",
   "metadata": {
    "collapsed": false,
    "editable": true,
    "jupyter": {
     "outputs_hidden": false
    },
    "slideshow": {
     "slide_type": "subslide"
    },
    "tags": []
   },
   "source": [
    "### Brew installation\n",
    "\n",
    "```\n",
    "brew install kubectl\n",
    "brew install fluxcd/tap/flux\n",
    "brew install kind\n",
    "brew install yq\n",
    "brew install kustomize\n",
    "```\n",
    "Kustomize is not really necessary, as `kubectl kustomize` is the same as `kustomize build`."
   ]
  },
  {
   "cell_type": "markdown",
   "id": "a09f3e42-aaf4-4ede-8122-846098bce36c",
   "metadata": {
    "editable": true,
    "slideshow": {
     "slide_type": "subslide"
    },
    "tags": []
   },
   "source": [
    "### Which versions to expect after installation"
   ]
  },
  {
   "cell_type": "code",
   "execution_count": null,
   "id": "eae60b9d-29af-4521-8add-fec46089cf3e",
   "metadata": {
    "collapsed": false,
    "editable": true,
    "jupyter": {
     "outputs_hidden": false
    },
    "slideshow": {
     "slide_type": ""
    },
    "tags": []
   },
   "outputs": [],
   "source": [
    "%%bash\n",
    "kind --version        # Should yield at least 0.20.0\n",
    "docker ps             # Should not give any errors\n",
    "kubectl version       # Should at least give 1.29\n",
    "flux version --client # Should at least give 2.2.2\n",
    "kustomize version     # 5.3.0, most are good\n",
    "yq --version          # 4.40.5"
   ]
  },
  {
   "cell_type": "code",
   "execution_count": null,
   "id": "74ff42be-b967-4561-b843-d9bff6c3ec75",
   "metadata": {
    "collapsed": false,
    "editable": true,
    "jupyter": {
     "outputs_hidden": false
    },
    "slideshow": {
     "slide_type": "notes"
    },
    "tags": []
   },
   "outputs": [],
   "source": [
    "%%bash\n",
    "cilium version        # 0.15.19 (server version 1.14.4)\n",
    "hubble version        # 0.12.3"
   ]
  },
  {
   "cell_type": "markdown",
   "id": "1ac2b201-3c66-4ffd-a7af-bb40afe5fbf3",
   "metadata": {
    "collapsed": false,
    "editable": true,
    "jupyter": {
     "outputs_hidden": false
    },
    "slideshow": {
     "slide_type": "fragment"
    },
    "tags": []
   },
   "source": [
    "### You might need to adjust the github config\n",
    "\n",
    "```shell\n",
    "git config --global push.default\n",
    "```"
   ]
  },
  {
   "cell_type": "markdown",
   "id": "bcb0dd55-3b5b-469d-91c8-80762e8599e8",
   "metadata": {
    "editable": true,
    "slideshow": {
     "slide_type": ""
    },
    "tags": []
   },
   "source": [
    "TODO: Consider add command line tools"
   ]
  },
  {
   "cell_type": "markdown",
   "id": "2ba43023-1e87-4f75-a1da-ad2455d85835",
   "metadata": {
    "collapsed": false,
    "editable": true,
    "jupyter": {
     "outputs_hidden": false
    },
    "slideshow": {
     "slide_type": "slide"
    },
    "tags": []
   },
   "source": [
    "## Docker based Kubernetes with Kind\n",
    "\n",
    "Using a local docker registry is a bit tricky. The following is based on instructions\n",
    "for Kind: https://kind.sigs.k8s.io/docs/user/local-registry/"
   ]
  },
  {
   "cell_type": "code",
   "execution_count": null,
   "id": "f1c186e0-3c04-4231-b2c6-8451d09cb663",
   "metadata": {
    "collapsed": false,
    "editable": true,
    "jupyter": {
     "outputs_hidden": false
    },
    "slideshow": {
     "slide_type": ""
    },
    "tags": []
   },
   "outputs": [],
   "source": [
    "%%bash\n",
    "docker run \\\n",
    "       -d --restart=always -p \"127.0.0.1:5001:5000\" \\\n",
    "       --network bridge --name \"kind-registry\" \\\n",
    "    registry:2"
   ]
  },
  {
   "cell_type": "markdown",
   "id": "e4e614ca-8724-4745-b58d-235d43c6e8ba",
   "metadata": {
    "collapsed": false,
    "editable": true,
    "jupyter": {
     "outputs_hidden": false
    },
    "slideshow": {
     "slide_type": ""
    },
    "tags": []
   },
   "source": [
    "This will start the registry as a separate docker container.\n",
    "\n",
    " **Notice** that it is started without a backing volume, so a deletion of the docker image will remove\n",
    "the images."
   ]
  },
  {
   "cell_type": "markdown",
   "id": "223594dc6e8bc44c",
   "metadata": {
    "collapsed": false,
    "editable": true,
    "jupyter": {
     "outputs_hidden": false
    },
    "slideshow": {
     "slide_type": "fragment"
    },
    "tags": []
   },
   "source": [
    "Kubernetes standard for local registries suggested:\n",
    "    https://github.com/kubernetes/enhancements/tree/master/keps/sig-cluster-lifecycle/generic/1755-communicating-a-local-registry"
   ]
  },
  {
   "cell_type": "markdown",
   "id": "c51cc8512ad11659",
   "metadata": {
    "collapsed": false,
    "editable": true,
    "jupyter": {
     "outputs_hidden": false
    },
    "slideshow": {
     "slide_type": "subslide"
    },
    "tags": []
   },
   "source": [
    "### Create the Kind cluster\n",
    "\n",
    "(NB remember `git clone git@github.com:nostra/neon.git`)"
   ]
  },
  {
   "cell_type": "code",
   "execution_count": null,
   "id": "6cd2f4182504d3b",
   "metadata": {
    "collapsed": false,
    "editable": true,
    "jupyter": {
     "outputs_hidden": false
    },
    "slideshow": {
     "slide_type": ""
    },
    "tags": []
   },
   "outputs": [],
   "source": [
    "%%bash\n",
    "kind create cluster --config kind-api-cluster.yaml --name=neonpandora"
   ]
  },
  {
   "cell_type": "markdown",
   "id": "9d763fd59707d7c2",
   "metadata": {
    "collapsed": false,
    "editable": true,
    "jupyter": {
     "outputs_hidden": false
    },
    "slideshow": {
     "slide_type": ""
    },
    "tags": []
   },
   "source": [
    "Test that it runs OK"
   ]
  },
  {
   "cell_type": "code",
   "execution_count": null,
   "id": "73a189cd13b17d06",
   "metadata": {
    "collapsed": false,
    "editable": true,
    "jupyter": {
     "outputs_hidden": false
    },
    "slideshow": {
     "slide_type": ""
    },
    "tags": []
   },
   "outputs": [],
   "source": [
    "%%bash\n",
    "kubectl config get-contexts"
   ]
  },
  {
   "cell_type": "code",
   "execution_count": null,
   "id": "cc812912d293d83",
   "metadata": {
    "collapsed": false,
    "editable": true,
    "jupyter": {
     "outputs_hidden": false
    },
    "slideshow": {
     "slide_type": ""
    },
    "tags": []
   },
   "outputs": [],
   "source": [
    "%%bash\n",
    "kubectl get pods -A"
   ]
  },
  {
   "cell_type": "markdown",
   "id": "f2f22d00-a843-4815-91f7-b94fc86d5664",
   "metadata": {
    "collapsed": false,
    "editable": true,
    "jupyter": {
     "outputs_hidden": false
    },
    "slideshow": {
     "slide_type": "skip"
    },
    "tags": []
   },
   "source": [
    "TITLE (TODO)\n",
    "\n",
    "We want to be able to accommodate the following:\n",
    "- Flux base system\n",
    "- Cluster setup\n",
    "- Creation of tenant within the cluster\n",
    "\n",
    "Changing between contexts:\n",
    "```\n",
    "kubectl config use-context kind-neonpandora\n",
    "```"
   ]
  },
  {
   "cell_type": "markdown",
   "id": "6dc6ec19a19f5ac7",
   "metadata": {
    "collapsed": false,
    "editable": true,
    "jupyter": {
     "outputs_hidden": false
    },
    "slideshow": {
     "slide_type": "subslide"
    },
    "tags": []
   },
   "source": [
    "### Connect up the local Kind regisitry\n",
    "\n",
    "Add [registry config to the nodes](https://kind.sigs.k8s.io/docs/user/local-registry/):"
   ]
  },
  {
   "cell_type": "code",
   "execution_count": null,
   "id": "b3ec3aabf5007567",
   "metadata": {
    "collapsed": false,
    "editable": true,
    "jupyter": {
     "outputs_hidden": false
    },
    "slideshow": {
     "slide_type": ""
    },
    "tags": []
   },
   "outputs": [],
   "source": [
    "%%bash\n",
    "REGISTRY_DIR=\"/etc/containerd/certs.d/localhost:5001\"\n",
    "for node in $(kind get nodes --name=neonpandora); do\n",
    "docker exec \"${node}\" mkdir -p \"${REGISTRY_DIR}\"\n",
    "cat <<EOF | docker exec -i \"${node}\" cp /dev/stdin \"${REGISTRY_DIR}/hosts.toml\"\n",
    "[host.\"http://kind-registry:5000\"]\n",
    "EOF\n",
    "done"
   ]
  },
  {
   "cell_type": "markdown",
   "id": "829a46bc6cad784a",
   "metadata": {
    "collapsed": false,
    "editable": true,
    "jupyter": {
     "outputs_hidden": false
    },
    "slideshow": {
     "slide_type": ""
    },
    "tags": []
   },
   "source": [
    "Connect network"
   ]
  },
  {
   "cell_type": "code",
   "execution_count": null,
   "id": "e32d4b060f887bee",
   "metadata": {
    "collapsed": false,
    "editable": true,
    "jupyter": {
     "outputs_hidden": false
    },
    "slideshow": {
     "slide_type": ""
    },
    "tags": []
   },
   "outputs": [],
   "source": [
    "%%bash\n",
    "docker network connect \"kind\"  kind-registry"
   ]
  },
  {
   "cell_type": "markdown",
   "id": "818a3ffd636fbb7d",
   "metadata": {
    "collapsed": false,
    "editable": true,
    "jupyter": {
     "outputs_hidden": false
    },
    "slideshow": {
     "slide_type": "subslide"
    },
    "tags": []
   },
   "source": [
    "### Kind registry config\n",
    "\n",
    "Make Kubernetes inside the Kind cluster use registry from the docker container\n"
   ]
  },
  {
   "cell_type": "code",
   "execution_count": null,
   "id": "8e47da0774f3e1ef",
   "metadata": {
    "collapsed": false,
    "editable": true,
    "jupyter": {
     "outputs_hidden": false
    },
    "slideshow": {
     "slide_type": ""
    },
    "tags": []
   },
   "outputs": [],
   "source": [
    "%%bash\n",
    "cat <<EOF | kubectl apply -f -\n",
    "apiVersion: v1\n",
    "kind: ConfigMap\n",
    "metadata:\n",
    "  name: local-registry-hosting\n",
    "  namespace: kube-public\n",
    "data:\n",
    "  localRegistryHosting.v1: |\n",
    "    host: \"localhost:5001\"\n",
    "    help: \"https://kind.sigs.k8s.io/docs/user/local-registry/\"\n",
    "EOF"
   ]
  },
  {
   "cell_type": "markdown",
   "id": "67f3c545-2bea-4ca3-ae1b-6c456c2d5c23",
   "metadata": {
    "collapsed": false,
    "editable": true,
    "jupyter": {
     "outputs_hidden": false
    },
    "slideshow": {
     "slide_type": "skip"
    },
    "tags": []
   },
   "source": [
    "## Skip: Cilium alternative for Rancher\n",
    "\n",
    "TODO Local registry:\n",
    "- https://github.com/k3d-io/k3d/blob/main/docs/usage/registries.md#using-a-local-registry\n",
    "- https://github.com/k3d-io/k3d/blob/main/docs/usage/registries.md?plain=1#L115\n",
    "- https://k3d.io/v5.2.0/usage/registries/#using-k3d-managed-registries\n",
    "\n",
    "Fire up rancher desktop. We want to use Cilium:\n",
    "https://docs.cilium.io/en/stable/installation/rancher-desktop/\n",
    "\n",
    "Do the indicated adjustment in the override file. Then:\n",
    "\n",
    "```shell\n",
    "cilium install --version 1.14.5\n",
    "cilium status --wait\n",
    "```\n",
    "Enable hubble with ui component\n",
    "```shell\n",
    "cilium hubble enable --ui\n",
    "```\n",
    "For the CLI to work, you need a port-forward.\n",
    "```shell\n",
    "cilium hubble port-forward\n",
    "```\n",
    "```shell\n",
    "hubble status\n",
    "hubble observe\n",
    "```\n",
    "\n",
    "```shell\n",
    "cilium hubble ui\n",
    "```"
   ]
  },
  {
   "cell_type": "markdown",
   "id": "955f4d1b3b93ee5b",
   "metadata": {
    "collapsed": false,
    "editable": true,
    "jupyter": {
     "outputs_hidden": false
    },
    "slideshow": {
     "slide_type": "slide"
    },
    "tags": []
   },
   "source": [
    "## Ssh server in Kind\n",
    "\n",
    "Create ssh keys for git"
   ]
  },
  {
   "cell_type": "code",
   "execution_count": null,
   "id": "906844df56affef2",
   "metadata": {
    "collapsed": false,
    "editable": true,
    "jupyter": {
     "outputs_hidden": false
    },
    "slideshow": {
     "slide_type": ""
    },
    "tags": []
   },
   "outputs": [],
   "source": [
    "%%bash\n",
    "ssh-keygen -f ~/.ssh/fluxpres -N \"\" -C \"Key used for flux presentation\""
   ]
  },
  {
   "cell_type": "markdown",
   "id": "ccfe7d77-42a0-49f7-a043-a4e2814c3ab6",
   "metadata": {
    "collapsed": false,
    "editable": true,
    "jupyter": {
     "outputs_hidden": false
    },
    "slideshow": {
     "slide_type": ""
    },
    "tags": []
   },
   "source": [
    "As the different git repositories represent different access levels, we\n",
    "would **use different keys** in a real life scenario.\n",
    "\n",
    "Bootstrapping sshd service, and use the key there:"
   ]
  },
  {
   "cell_type": "code",
   "execution_count": null,
   "id": "2de52bc7-f11b-47f1-ac39-fe0a9743d93c",
   "metadata": {
    "collapsed": false,
    "editable": true,
    "jupyter": {
     "outputs_hidden": false
    },
    "slideshow": {
     "slide_type": ""
    },
    "tags": []
   },
   "outputs": [],
   "source": [
    "%%bash\n",
    "pushd dockerimage/sshd/\n",
    "cp ~/.ssh/fluxpres.pub .\n",
    "docker build -t neon.local.gd:5001/flux_sshd:v1 ."
   ]
  },
  {
   "cell_type": "code",
   "execution_count": null,
   "id": "2c78ddd7-f680-4771-badb-cc6233de32bd",
   "metadata": {
    "collapsed": false,
    "editable": true,
    "jupyter": {
     "outputs_hidden": false
    },
    "slideshow": {
     "slide_type": "skip"
    },
    "tags": []
   },
   "outputs": [],
   "source": [
    "which nerdctl > /dev/null && nerdctl --namespace k8s.io build -t flux_sshd:v1 ."
   ]
  },
  {
   "cell_type": "code",
   "execution_count": null,
   "id": "3ae9d9c984ed6e9f",
   "metadata": {
    "editable": true,
    "slideshow": {
     "slide_type": ""
    },
    "tags": []
   },
   "outputs": [],
   "source": [
    "%%bash\n",
    "docker push neon.local.gd:5001/flux_sshd:v1"
   ]
  },
  {
   "cell_type": "markdown",
   "id": "7898cb20-a941-47f0-8a55-b26c1fb4f5a0",
   "metadata": {
    "collapsed": false,
    "editable": true,
    "jupyter": {
     "outputs_hidden": false
    },
    "slideshow": {
     "slide_type": "notes"
    },
    "tags": []
   },
   "source": [
    "TODO Streamline use according to rancher or kind.\n",
    "\n",
    "Kind: Push image to running repository\n",
    "(TODO Check: May be that the local.gd strategy here does not pan out)"
   ]
  },
  {
   "cell_type": "markdown",
   "id": "3753df614a82861b",
   "metadata": {
    "collapsed": false,
    "editable": true,
    "jupyter": {
     "outputs_hidden": false
    },
    "slideshow": {
     "slide_type": "notes"
    },
    "tags": []
   },
   "source": [
    "**Legacy:** If using kind, load the image, first:\n",
    "\n",
    "TODO Check information, I think it is outdated"
   ]
  },
  {
   "cell_type": "code",
   "execution_count": null,
   "id": "d59969a2c5fd7f4",
   "metadata": {
    "collapsed": false,
    "editable": true,
    "jupyter": {
     "outputs_hidden": false
    },
    "slideshow": {
     "slide_type": "notes"
    },
    "tags": []
   },
   "outputs": [],
   "source": [
    "%%bash\n",
    "kind --name neonpandora load docker-image flux_sshd:v1"
   ]
  },
  {
   "cell_type": "markdown",
   "id": "31d0b15b9daa5d4d",
   "metadata": {
    "collapsed": false,
    "editable": true,
    "jupyter": {
     "outputs_hidden": false
    },
    "slideshow": {
     "slide_type": "subslide"
    },
    "tags": []
   },
   "source": [
    "Start the sshd server, in which we will store our git repos:"
   ]
  },
  {
   "cell_type": "code",
   "execution_count": null,
   "id": "4c486bc249b0bbd7",
   "metadata": {
    "editable": true,
    "slideshow": {
     "slide_type": ""
    },
    "tags": []
   },
   "outputs": [],
   "source": [
    "%%bash\n",
    "kubectl create ns management\n",
    "kubectl create -n management -k base/sshd"
   ]
  },
  {
   "cell_type": "markdown",
   "id": "66008c26-ea07-492f-be1c-40df27b503a1",
   "metadata": {
    "collapsed": false,
    "editable": true,
    "jupyter": {
     "outputs_hidden": false
    },
    "slideshow": {
     "slide_type": "notes"
    },
    "tags": []
   },
   "source": [
    "**NB: Check nodeport config for Rancher **"
   ]
  },
  {
   "cell_type": "markdown",
   "id": "99543de778c7df54",
   "metadata": {
    "collapsed": false,
    "editable": true,
    "jupyter": {
     "outputs_hidden": false
    },
    "slideshow": {
     "slide_type": "slide"
    },
    "tags": []
   },
   "source": [
    "## GitOps with Flux\n",
    "\n",
    "First create repository on the ssh-server inside the Kubernetes cluster:"
   ]
  },
  {
   "cell_type": "code",
   "execution_count": null,
   "id": "714e31b1ace7aa01",
   "metadata": {
    "collapsed": false,
    "editable": true,
    "jupyter": {
     "outputs_hidden": false
    },
    "slideshow": {
     "slide_type": ""
    },
    "tags": []
   },
   "outputs": [],
   "source": [
    "%%bash\n",
    "ssh -i ~/.ssh/fluxpres -p 31022 fluxpres@neon.local.gd \\\n",
    "    git init --bare git/neonflux.git < /dev/null"
   ]
  },
  {
   "cell_type": "markdown",
   "id": "755aa403-bacf-4fa5-bec8-3551d01714e4",
   "metadata": {
    "collapsed": false,
    "editable": true,
    "jupyter": {
     "outputs_hidden": false
    },
    "slideshow": {
     "slide_type": ""
    },
    "tags": []
   },
   "source": [
    "If you have trouble with the command above, you need:\n",
    "\n",
    "```\n",
    "# Edit ~/.ssh/config\n",
    "Host neon.local.gd\n",
    "  User fluxpres\n",
    "  IdentityFile ~/.ssh/fluxpres\n",
    "```"
   ]
  },
  {
   "cell_type": "markdown",
   "id": "e0588f93-f573-4f34-a7c2-b852c75783d9",
   "metadata": {
    "collapsed": false,
    "editable": true,
    "jupyter": {
     "outputs_hidden": false
    },
    "slideshow": {
     "slide_type": "subslide"
    },
    "tags": []
   },
   "source": [
    "### Clone and install flux system"
   ]
  },
  {
   "cell_type": "code",
   "execution_count": null,
   "id": "3edfb21de7ba2963",
   "metadata": {
    "editable": true,
    "slideshow": {
     "slide_type": ""
    },
    "tags": []
   },
   "outputs": [],
   "source": [
    "%%bash\n",
    "mkdir -p ~/scrap/work\n",
    "git clone \\\n",
    "   ssh://fluxpres@neon.local.gd:31022/home/fluxpres/git/neonflux.git \\\n",
    "   ~/scrap/work/neonflux\n",
    "cp -r flux $HOME/scrap/work/neonflux/.\n",
    "cp -r base $HOME/scrap/work/neonflux/.\n",
    "cp .gitignore $HOME/scrap/work/neonflux/.gitignore"
   ]
  },
  {
   "cell_type": "markdown",
   "id": "ee7327b95081b21a",
   "metadata": {
    "collapsed": false,
    "editable": true,
    "jupyter": {
     "outputs_hidden": false
    },
    "slideshow": {
     "slide_type": "subslide"
    },
    "tags": []
   },
   "source": [
    "### ...  and enable Flux"
   ]
  },
  {
   "cell_type": "code",
   "execution_count": null,
   "id": "8b3ba6f6b3cad33f",
   "metadata": {
    "collapsed": false,
    "editable": true,
    "jupyter": {
     "outputs_hidden": false
    },
    "slideshow": {
     "slide_type": ""
    },
    "tags": []
   },
   "outputs": [],
   "source": [
    "%%bash\n",
    "\n",
    "pushd $HOME/scrap/work/neonflux\n",
    "\n",
    "flux install \\\n",
    "     --components=source-controller,kustomize-controller,helm-controller,notification-controller \\\n",
    "     --components-extra=image-reflector-controller,image-automation-controller \\\n",
    "     --export > ./flux/system/gotk-components.yaml &&\n",
    "git add . ; git commit -a -m \"Initial commit\" ; git push\n",
    "popd"
   ]
  },
  {
   "cell_type": "markdown",
   "id": "677bd89c-e352-46d4-97b4-d40b9a20d775",
   "metadata": {
    "collapsed": false,
    "editable": true,
    "jupyter": {
     "outputs_hidden": false
    },
    "slideshow": {
     "slide_type": "notes"
    },
    "tags": []
   },
   "source": [
    "???\n",
    "- System is the Flux system as such\n",
    "- https://fluxcd.io/docs/installation/#air-gapped-environments\n",
    "- https://github.com/fluxcd/flux2-multi-tenancy\n",
    "- Open as module in IntelliJ\n",
    "- It may be that flux bootstrap with appropriate flags is a better approach than applying system twice\n",
    "- If doing \"git branch -m main\", you need to change flux-system-sync too"
   ]
  },
  {
   "cell_type": "markdown",
   "id": "d6ab35c9aa9a3361",
   "metadata": {
    "collapsed": false,
    "editable": true,
    "jupyter": {
     "outputs_hidden": false
    },
    "slideshow": {
     "slide_type": "subslide"
    },
    "tags": []
   },
   "source": [
    "### ...  Flux needs secret to read git\n",
    "Add ssh key as secret to flux system. Notice that the `known_hosts` file gets adjusted. In a later example, we just skip the host key verification."
   ]
  },
  {
   "cell_type": "code",
   "execution_count": null,
   "id": "18e46bdf718a9017",
   "metadata": {
    "collapsed": false,
    "editable": true,
    "jupyter": {
     "outputs_hidden": false
    },
    "slideshow": {
     "slide_type": ""
    },
    "tags": []
   },
   "outputs": [],
   "source": [
    "%%bash\n",
    "pushd ~/scrap/work/neonflux\n",
    "flux create secret git flux-system \\\n",
    "                       --url=ssh://fluxpres@neon.local.gd:31022/home/fluxpres/git/flux-system.git \\\n",
    "                       --private-key-file=$HOME/.ssh/fluxpres --namespace=flux-system \\\n",
    "                        --export > flux-system-secret.yaml\n",
    "echo \"Correct sshd hostname to what it is inside cluster\"\n",
    "export POD=$( kubectl get pods -n management -l app=sshd -o yaml  | yq '.items[].metadata.name' )\n",
    "export LINE=$( kubectl exec -t -n management $POD -- ssh-keyscan sshd.management | grep sha2 |  gsed '/./,$!d' )\n",
    "gsed -i 's|\\(known_hosts:\\).*|\\1 '\"$LINE\"'|g' flux-system-secret.yaml\n",
    "mv flux-system-secret.yaml flux/system/flux-system-secret.yaml\n",
    "git add .\n",
    "git commit -a -m \"Add secret and sync configurations\" && git push\n",
    "popd"
   ]
  },
  {
   "cell_type": "markdown",
   "id": "75c2a8b3-217a-4b7c-b064-0727876e0eb0",
   "metadata": {
    "collapsed": false,
    "editable": true,
    "jupyter": {
     "outputs_hidden": false
    },
    "slideshow": {
     "slide_type": ""
    },
    "tags": []
   },
   "source": [
    "Notice that the secret would be **encrypted with Mozilla SOPS or Sealed Secrets** in a real life scenario in order to avoid storing plain-text secrets in git. Or placed in a vault."
   ]
  },
  {
   "cell_type": "markdown",
   "id": "b6b4cd523eff462e",
   "metadata": {
    "collapsed": false,
    "editable": true,
    "jupyter": {
     "outputs_hidden": false
    },
    "slideshow": {
     "slide_type": "subslide"
    },
    "tags": []
   },
   "source": [
    "**Bootstrap** synchronization of flux-system."
   ]
  },
  {
   "cell_type": "code",
   "execution_count": null,
   "id": "54bab81f50ecb710",
   "metadata": {
    "collapsed": false,
    "editable": true,
    "jupyter": {
     "outputs_hidden": false
    },
    "slideshow": {
     "slide_type": ""
    },
    "tags": []
   },
   "outputs": [],
   "source": [
    "%%bash\n",
    "kubectl create -k ~/scrap/work/neonflux/flux/system"
   ]
  },
  {
   "cell_type": "code",
   "execution_count": null,
   "id": "f97da45e-201c-4758-ab9d-b10d58194588",
   "metadata": {
    "collapsed": false,
    "editable": true,
    "jupyter": {
     "outputs_hidden": false
    },
    "slideshow": {
     "slide_type": ""
    },
    "tags": []
   },
   "outputs": [],
   "source": [
    "%%bash\n",
    "kubectl -n flux-system get pods --watch"
   ]
  },
  {
   "cell_type": "code",
   "execution_count": null,
   "id": "c28269df-330c-451a-a8f9-cc40d5f87847",
   "metadata": {
    "editable": true,
    "slideshow": {
     "slide_type": ""
    },
    "tags": []
   },
   "outputs": [],
   "source": [
    "%%bash\n",
    "flux get kustomization -A"
   ]
  },
  {
   "attachments": {},
   "cell_type": "markdown",
   "id": "bfd5e1c1-da06-4bf0-9b57-20f1c454f63a",
   "metadata": {
    "editable": true,
    "slideshow": {
     "slide_type": "subslide"
    },
    "tags": []
   },
   "source": [
    "### Webhook to trigger Flux upon check-in\n",
    "\n",
    "FluxCD has a [number of ways](https://fluxcd.io/flux/components/notification/receivers/) to set up web hooks. \n",
    "Token can be generated with `head -c 12 /dev/urandom | shasum | cut -d ' ' -f1`, but I'm not regenerating it for this example."
   ]
  },
  {
   "cell_type": "code",
   "execution_count": null,
   "id": "9fa7d060-2c90-42c6-9435-1363b217aa9d",
   "metadata": {
    "editable": true,
    "slideshow": {
     "slide_type": ""
    },
    "tags": []
   },
   "outputs": [],
   "source": [
    "%%bash\n",
    "WEBHOOK_PATH=$(kubectl get -n flux-system Receiver flux-webhook -o yaml|yq eval '.status.webhookPath'| cut -c 2-)\n",
    "\n",
    "gsed -i 's|\\(WEBHOOK_PATH=\\).*|\\1'\"$WEBHOOK_PATH\"'|g' post-webhook.sh"
   ]
  },
  {
   "cell_type": "code",
   "execution_count": null,
   "id": "2d8de423-e82c-48ee-814f-5d0a77b2290b",
   "metadata": {
    "editable": true,
    "slideshow": {
     "slide_type": ""
    },
    "tags": []
   },
   "outputs": [],
   "source": [
    "%%bash\n",
    "scp -i ~/.ssh/fluxpres -P 31022 post-webhook.sh \\\n",
    "    fluxpres@neon.local.gd:/home/fluxpres/git/neonflux.git/hooks/post-receive\n",
    "ssh -i  ~/.ssh/fluxpres -p 31022 fluxpres@neon.local.gd \\\n",
    "    chmod a+x /home/fluxpres/git/neonflux.git/hooks/post-receive"
   ]
  },
  {
   "cell_type": "markdown",
   "id": "f61a89a609cd0096",
   "metadata": {
    "collapsed": false,
    "editable": true,
    "jupyter": {
     "outputs_hidden": false
    },
    "slideshow": {
     "slide_type": "slide"
    },
    "tags": []
   },
   "source": [
    "## Set up a Quarkus project\n",
    "Create a repository for code:\n"
   ]
  },
  {
   "cell_type": "code",
   "execution_count": null,
   "id": "8b4d5be2-8f1e-4a05-b12f-64adb0cd47b2",
   "metadata": {
    "collapsed": false,
    "editable": true,
    "jupyter": {
     "outputs_hidden": false
    },
    "slideshow": {
     "slide_type": ""
    },
    "tags": []
   },
   "outputs": [],
   "source": [
    "%%bash\n",
    "ssh -i ~/.ssh/fluxpres -p 31022 fluxpres@neon.local.gd \\\n",
    "    git init --bare git/neoncode.git"
   ]
  },
  {
   "cell_type": "code",
   "execution_count": null,
   "id": "4139d782-498b-4eb8-9bdf-34c6513a82cb",
   "metadata": {
    "collapsed": false,
    "editable": true,
    "jupyter": {
     "outputs_hidden": false
    },
    "slideshow": {
     "slide_type": ""
    },
    "tags": []
   },
   "outputs": [],
   "source": [
    "\n",
    "%%bash\n",
    "git clone ssh://fluxpres@neon.local.gd:31022/home/fluxpres/git/neoncode.git $HOME/scrap/work/neoncode\n",
    "pushd  $HOME/scrap/work/neoncode/\n",
    "git branch -M main\n",
    "echo \"# Basis for a project\" >  README.md\n",
    "git add README.md\n",
    "git commit -a -m \"Initial commit\"\n",
    "git push"
   ]
  },
  {
   "cell_type": "markdown",
   "id": "a224a5ce53a4a640",
   "metadata": {
    "collapsed": false,
    "editable": true,
    "jupyter": {
     "outputs_hidden": false
    },
    "slideshow": {
     "slide_type": "subslide"
    },
    "tags": []
   },
   "source": [
    "### Quarkus initialization"
   ]
  },
  {
   "cell_type": "code",
   "execution_count": null,
   "id": "9c7c38c7bccec394",
   "metadata": {
    "collapsed": false,
    "editable": true,
    "jupyter": {
     "outputs_hidden": false
    },
    "slideshow": {
     "slide_type": ""
    },
    "tags": []
   },
   "outputs": [],
   "source": [
    "%%bash\n",
    "pushd $HOME/scrap/work/neoncode\n",
    "quarkus create app --dry-run no.scienta:neoncode\n",
    "quarkus create app no.scienta:neoncode\n",
    "find neoncode -maxdepth 1 -exec mv {} . \\;\n",
    "# (Ignore error above)\n",
    "rmdir neoncode\n",
    "quarkus ext add io.quarkus:quarkus-kubernetes\n",
    "quarkus ext add io.quarkus:quarkus-micrometer-registry-prometheus\n",
    "quarkus ext add io.quarkus:quarkus-container-image-jib\n",
    "./mvnw quarkus:add-extension -Dextensions=\"io.quarkus:quarkus-smallrye-health\"\n",
    "git add .\n",
    "git commit -a -m \"Quarkus project created\"\n",
    "git push\n",
    "popd"
   ]
  },
  {
   "cell_type": "markdown",
   "id": "303331d7-b774-4973-832e-d9e1e27cd14f",
   "metadata": {
    "collapsed": false,
    "editable": true,
    "jupyter": {
     "outputs_hidden": false
    },
    "slideshow": {
     "slide_type": "subslide"
    },
    "tags": []
   },
   "source": [
    "### Add application properties"
   ]
  },
  {
   "cell_type": "code",
   "execution_count": null,
   "id": "579bb892bcbeedc7",
   "metadata": {
    "editable": true,
    "scrolled": true,
    "slideshow": {
     "slide_type": ""
    },
    "tags": []
   },
   "outputs": [],
   "source": [
    "%%bash\n",
    "cp quarkus-app.properties $HOME/scrap/work/neoncode/src/main/resources/application.properties\n",
    "cp .gitignore $HOME/scrap/work/neoncode/.gitignore\n",
    "pushd $HOME/scrap/work/neoncode\n",
    "git commit -a -m \"Application configration added\"\n",
    "git push\n",
    "popd"
   ]
  },
  {
   "cell_type": "markdown",
   "id": "6f7cac32-8c5f-49a4-8fc0-8af8e9917fea",
   "metadata": {
    "collapsed": false,
    "editable": true,
    "jupyter": {
     "outputs_hidden": false
    },
    "slideshow": {
     "slide_type": "notes"
    },
    "tags": []
   },
   "source": [
    "More information:\n",
    "- https://quarkus.io/get-started/\n",
    "```\n",
    "sdk install quarkus\n",
    "```\n",
    "- examine the properties"
   ]
  },
  {
   "cell_type": "markdown",
   "id": "f4776d98e1e3481c",
   "metadata": {
    "collapsed": false,
    "editable": true,
    "jupyter": {
     "outputs_hidden": false
    },
    "slideshow": {
     "slide_type": "subslide"
    },
    "tags": []
   },
   "source": [
    "### Run the Quarkus project\n",
    "Build and run it locally:"
   ]
  },
  {
   "cell_type": "code",
   "execution_count": null,
   "id": "268142e0387a9b6d",
   "metadata": {
    "collapsed": false,
    "editable": true,
    "jupyter": {
     "outputs_hidden": false
    },
    "slideshow": {
     "slide_type": ""
    },
    "tags": []
   },
   "outputs": [],
   "source": [
    "%%bash\n",
    "pushd $HOME/scrap/work/neoncode\n",
    "quarkus dev"
   ]
  },
  {
   "cell_type": "markdown",
   "id": "66ee2840fba0ea87",
   "metadata": {
    "collapsed": false,
    "editable": true,
    "jupyter": {
     "outputs_hidden": false
    },
    "slideshow": {
     "slide_type": ""
    },
    "tags": []
   },
   "source": [
    "Call it:"
   ]
  },
  {
   "cell_type": "code",
   "execution_count": null,
   "id": "495eafeb2eac2406",
   "metadata": {
    "collapsed": false,
    "editable": true,
    "jupyter": {
     "outputs_hidden": false
    },
    "slideshow": {
     "slide_type": ""
    },
    "tags": []
   },
   "outputs": [],
   "source": [
    "%%bash\n",
    "curl -s http://localhost:8080/hello"
   ]
  },
  {
   "cell_type": "markdown",
   "id": "b6f95ee7a70c36d",
   "metadata": {
    "collapsed": false,
    "editable": true,
    "jupyter": {
     "outputs_hidden": false
    },
    "slideshow": {
     "slide_type": "notes"
    },
    "tags": []
   },
   "source": [
    "???\n",
    "```shell\n",
    "pushd $HOME/scrap/work/neoncode\n",
    "./mvnw clean package\n",
    "```"
   ]
  },
  {
   "cell_type": "markdown",
   "id": "bc55e587b62f0778",
   "metadata": {
    "collapsed": false,
    "editable": true,
    "jupyter": {
     "outputs_hidden": false
    },
    "slideshow": {
     "slide_type": "slide"
    },
    "tags": []
   },
   "source": [
    "## Build with Tekton...\n",
    "\n",
    "- https://tekton.dev/\n",
    " \n",
    "The Tekton pipeline needs to be able to pull code from the repository too:"
   ]
  },
  {
   "cell_type": "code",
   "execution_count": null,
   "id": "6ab0726b86f878a9",
   "metadata": {
    "collapsed": false,
    "editable": true,
    "jupyter": {
     "outputs_hidden": false
    },
    "slideshow": {
     "slide_type": ""
    },
    "tags": []
   },
   "outputs": [],
   "source": [
    "%%bash\n",
    "cd ~/scrap/work/neonflux/\n",
    "export LINE=$( cat $HOME/.ssh/fluxpres | base64 )\n",
    "gsed -i 's|\\(id_rsa:\\).*|\\1 '\"$LINE\"'|g' flux/tenant/neon-builder/git-credentials.yaml\n",
    "git commit flux -m \"Update credentials\"\n",
    "git push"
   ]
  },
  {
   "cell_type": "markdown",
   "id": "3a3a9efb-bbc0-4064-a561-2917beede240",
   "metadata": {
    "editable": true,
    "slideshow": {
     "slide_type": ""
    },
    "tags": []
   },
   "source": [
    "**NB** : On Linux, use \"base64 -w 0\" when encoding"
   ]
  },
  {
   "cell_type": "markdown",
   "id": "94b9e545ff505813",
   "metadata": {
    "collapsed": false,
    "editable": true,
    "jupyter": {
     "outputs_hidden": false
    },
    "slideshow": {
     "slide_type": "subslide"
    },
    "tags": []
   },
   "source": [
    "### Tekton elements\n",
    "\n",
    "| element     | description                                       |\n",
    "|-------------|---------------------------------------------------|\n",
    "| step        | an actual action, for instance compiling the code |\n",
    "| task        | collection of steps                               |\n",
    "| taskrun     | run and execute a task. Useful for debugging      |\n",
    "| pipeline    | run one or more tasks in sequence                 |\n",
    "| pipelinerun | execute a pipeline                                |\n",
    "\n",
    "Annoyingly missing code completion in Intellij, as CRD does not define explanation fields.\n",
    "Redhat has a plugin which supports Tekton, but it does not play nice with the\n",
    "existing Kubernetes plugin - at least not in my experience.\n",
    "\n",
    "Definitions are somewhat verbose, but luckily one does not set up too many different\n",
    "types of build pipelines in the same project."
   ]
  },
  {
   "attachments": {},
   "cell_type": "markdown",
   "id": "f9fe6a0c-761c-4cd4-962e-a9b0a0c9df00",
   "metadata": {
    "collapsed": false,
    "editable": true,
    "jupyter": {
     "outputs_hidden": false
    },
    "slideshow": {
     "slide_type": "subslide"
    },
    "tags": []
   },
   "source": [
    "#### Tekton has a dashboard\n",
    "\n",
    "(Cannot be started through jupyter as it needs to reside in the background.)\n",
    "```\n",
    "screen -m -d -S tekton \\\n",
    "   kubectl --namespace tekton-pipelines port-forward svc/tekton-dashboard 9097:9097\n",
    "```\n",
    "\n",
    "Then open http://localhost:9097/\n",
    "\n",
    "For this presentation, Tekton is exposed here: http://tekton.local.gd:31090/"
   ]
  },
  {
   "cell_type": "markdown",
   "id": "750663c9-0370-4107-848f-383a43c14ea9",
   "metadata": {
    "collapsed": false,
    "editable": true,
    "jupyter": {
     "outputs_hidden": false
    },
    "slideshow": {
     "slide_type": "notes"
    },
    "tags": []
   },
   "source": [
    "???\n",
    "- TODO Fix git credentials\n",
    "- SLSA https://tekton.dev/docs/concepts/supply-chain-security/"
   ]
  },
  {
   "cell_type": "markdown",
   "id": "a4a81ab38a93de1f",
   "metadata": {
    "collapsed": false,
    "editable": true,
    "jupyter": {
     "outputs_hidden": false
    },
    "slideshow": {
     "slide_type": "subslide"
    },
    "tags": []
   },
   "source": [
    "### Build with tekton... webhook\n",
    "\n",
    "Creating a [git webhook](https://git-scm.com/book/en/v2/Customizing-Git-Git-Hooks).\n",
    "\n",
    "Copy the script to the server side hook directory:"
   ]
  },
  {
   "cell_type": "code",
   "execution_count": null,
   "id": "811e8c55517e78dd",
   "metadata": {
    "collapsed": false,
    "editable": true,
    "jupyter": {
     "outputs_hidden": false
    },
    "slideshow": {
     "slide_type": ""
    },
    "tags": []
   },
   "outputs": [],
   "source": [
    "%%bash\n",
    "scp -i ~/.ssh/fluxpres -P 31022 post-recieve.sh \\\n",
    "    fluxpres@neon.local.gd:/home/fluxpres/git/neoncode.git/hooks/post-receive\n",
    "ssh -i  ~/.ssh/fluxpres -p 31022 fluxpres@neon.local.gd \\\n",
    "    chmod a+x /home/fluxpres/git/neoncode.git/hooks/post-receive"
   ]
  },
  {
   "cell_type": "markdown",
   "id": "74dd0e132b8cc88d",
   "metadata": {
    "collapsed": false,
    "editable": true,
    "jupyter": {
     "outputs_hidden": false
    },
    "slideshow": {
     "slide_type": ""
    },
    "tags": []
   },
   "source": [
    "This will trigger upon change of code. You can also induce manual run with\n",
    "a Kubernetes definition:"
   ]
  },
  {
   "cell_type": "code",
   "execution_count": null,
   "id": "e743732c6c5050a",
   "metadata": {
    "collapsed": false,
    "editable": true,
    "jupyter": {
     "outputs_hidden": false
    },
    "slideshow": {
     "slide_type": ""
    },
    "tags": []
   },
   "outputs": [],
   "source": [
    "%%bash\n",
    "kubectl create -n neon-builder -f flux/tenant/neon-builder/neon-pipeline-run.yaml"
   ]
  },
  {
   "cell_type": "markdown",
   "id": "279b50ca14d7c948",
   "metadata": {
    "collapsed": false,
    "editable": true,
    "jupyter": {
     "outputs_hidden": false
    },
    "slideshow": {
     "slide_type": ""
    },
    "tags": []
   },
   "source": [
    "_or_ by calling the trigger endpoint manually:"
   ]
  },
  {
   "cell_type": "code",
   "execution_count": null,
   "id": "df9c23ea8d0843c0",
   "metadata": {
    "collapsed": false,
    "editable": true,
    "jupyter": {
     "outputs_hidden": false
    },
    "slideshow": {
     "slide_type": ""
    },
    "tags": []
   },
   "outputs": [],
   "source": [
    "%%bash\n",
    "kubectl run curl -i --rm --restart=Never --image gcr.io/cloud-builders/curl -- \\\n",
    "    -XPOST -d '{\"reponame\": \"neoncode\"}' \\\n",
    "    http://el-neon-listener.neon-builder:8080"
   ]
  },
  {
   "cell_type": "markdown",
   "id": "5863c41e1175eaa5",
   "metadata": {
    "collapsed": false,
    "editable": true,
    "jupyter": {
     "outputs_hidden": false
    },
    "slideshow": {
     "slide_type": "subslide"
    },
    "tags": []
   },
   "source": [
    "### Build with tekton... : status\n",
    "\n",
    "- https://hub.tekton.dev/tekton/task/maven"
   ]
  },
  {
   "cell_type": "code",
   "execution_count": null,
   "id": "448b6c9054b71ba0",
   "metadata": {
    "collapsed": false,
    "editable": true,
    "jupyter": {
     "outputs_hidden": false
    },
    "slideshow": {
     "slide_type": ""
    },
    "tags": []
   },
   "outputs": [],
   "source": [
    "%%bash\n",
    "kubectl config set-context --current --namespace=neon-builder\n",
    "kubectl get pods"
   ]
  },
  {
   "cell_type": "code",
   "execution_count": null,
   "id": "6019979e4eb6dab2",
   "metadata": {
    "collapsed": false,
    "editable": true,
    "jupyter": {
     "outputs_hidden": false
    },
    "slideshow": {
     "slide_type": ""
    },
    "tags": []
   },
   "outputs": [],
   "source": [
    "%%bash\n",
    "tkn pipeline list"
   ]
  },
  {
   "cell_type": "code",
   "execution_count": null,
   "id": "f756a20daac0e258",
   "metadata": {
    "collapsed": false,
    "editable": true,
    "jupyter": {
     "outputs_hidden": false
    },
    "slideshow": {
     "slide_type": ""
    },
    "tags": []
   },
   "outputs": [],
   "source": [
    "%%bash\n",
    "tkn pipelinerun list"
   ]
  },
  {
   "cell_type": "code",
   "execution_count": null,
   "id": "29791f779b5680f8",
   "metadata": {
    "collapsed": false,
    "editable": true,
    "jupyter": {
     "outputs_hidden": false
    },
    "slideshow": {
     "slide_type": ""
    },
    "tags": []
   },
   "outputs": [],
   "source": [
    "%%bash\n",
    "tkn pipelinerun logs neon-build-run-$HASH"
   ]
  },
  {
   "cell_type": "code",
   "execution_count": null,
   "id": "38987a9e6c8d198e",
   "metadata": {
    "collapsed": false,
    "editable": true,
    "jupyter": {
     "outputs_hidden": false
    },
    "slideshow": {
     "slide_type": ""
    },
    "tags": []
   },
   "outputs": [],
   "source": [
    "%%bash\n",
    "docker pull localhost:5001/scienta/neon:1.0.0-SNAPSHOT"
   ]
  },
  {
   "cell_type": "markdown",
   "id": "21d5f808-e421-411c-9105-4ad99f7333c7",
   "metadata": {
    "collapsed": false,
    "editable": true,
    "jupyter": {
     "outputs_hidden": false
    },
    "slideshow": {
     "slide_type": "subslide"
    },
    "tags": []
   },
   "source": [
    "### Build with tekton... :  feeling\n",
    "- Tekton is fairly verbose\n",
    "- As build is done by Kubernetes objects, pipeline runs remains as cruft as you need / want to see logs\n",
    "- Github actions is easier to grasp, and you can still build inside the cluster\n",
    "- You want to consider a separate build cluster for security reasons"
   ]
  },
  {
   "cell_type": "markdown",
   "id": "dd3c47bc-734a-4eef-8f1f-aebe7209428d",
   "metadata": {
    "collapsed": false,
    "editable": true,
    "jupyter": {
     "outputs_hidden": false
    },
    "slideshow": {
     "slide_type": "fragment"
    },
    "tags": []
   },
   "source": [
    "### Build with tekton... : SLSA\n",
    "Supply chain security:\n",
    "https://tekton.dev/docs/getting-started/supply-chain-security/"
   ]
  },
  {
   "attachments": {},
   "cell_type": "markdown",
   "id": "8077b9a7-ab99-45fe-8404-812ac06dd60c",
   "metadata": {
    "collapsed": false,
    "editable": true,
    "jupyter": {
     "outputs_hidden": false
    },
    "slideshow": {
     "slide_type": "skip"
    },
    "tags": []
   },
   "source": [
    "## Run application... : secret\n",
    "(Not necessary when using Kind.)\n",
    "\n",
    "```\n",
    "kubectl create secret docker-registry image-pull-secret \\\n",
    "                         -n backend \\\n",
    "                         --docker-server=registry.management.svc.cluster.local:5000 \\\n",
    "                         --docker-username=testuser \\\n",
    "                         --docker-password=testpassword \\\n",
    "                         --docker-email=nobody@dynamicus.org\n",
    "```\n",
    "curl -i --user testuser:testpassword https://registry.management.svc.cluster.local:5000/v2/_catalog\n",
    "curl -i --user testuser:testpassword https://registry.management.svc.cluster.local:5000/v2/scienta/neon/tags/list\n",
    "curl -i --user testuser:testpassword https://registry.management.svc.cluster.local:5000/v2/scienta/neon/manifests/1.0.0-SNAPSHOT\n",
    "```"
   ]
  },
  {
   "cell_type": "markdown",
   "id": "3a46cfdf7b98b96a",
   "metadata": {
    "collapsed": false,
    "editable": true,
    "jupyter": {
     "outputs_hidden": false
    },
    "slideshow": {
     "slide_type": "slide"
    },
    "tags": []
   },
   "source": [
    "## Run application... : app"
   ]
  },
  {
   "cell_type": "code",
   "execution_count": null,
   "id": "8811401a4eacb6b6",
   "metadata": {
    "collapsed": false,
    "editable": true,
    "jupyter": {
     "outputs_hidden": false
    },
    "slideshow": {
     "slide_type": ""
    },
    "tags": []
   },
   "outputs": [],
   "source": [
    "%%bash\n",
    "cd ~/scrap/work/neoncode\n",
    "mvn clean package\n",
    "cd target/kubernetes\n",
    "kustomize create --autodetect .\n",
    "mkdir -p ~/scrap/work/neonflux/base/neoncode\n",
    "rm -f ~/scrap/work/neonflux/base/neoncode/*.yaml\n",
    "kustomize build . -o ~/scrap/work/neonflux/base/neoncode\n",
    "cd ~/scrap/work/neonflux/base/neoncode\n",
    "kustomize create --autodetect .\n",
    "cd ..\n",
    "git add neoncode\n",
    "git commit neoncode -m \"Add / update neon\"\n",
    "git push"
   ]
  },
  {
   "cell_type": "markdown",
   "id": "32b7bdb1-12e1-4a06-9df1-bfd46b1243e1",
   "metadata": {},
   "source": [
    "Here, you can use `kubectl kustomize` if you haven't installed customize."
   ]
  },
  {
   "cell_type": "markdown",
   "id": "bc56ceee8fa2affb",
   "metadata": {
    "collapsed": false,
    "editable": true,
    "jupyter": {
     "outputs_hidden": false
    },
    "slideshow": {
     "slide_type": "subslide"
    },
    "tags": []
   },
   "source": [
    "### Run application... :  base"
   ]
  },
  {
   "cell_type": "code",
   "execution_count": null,
   "id": "ba25fd338f29d03b",
   "metadata": {
    "collapsed": false,
    "editable": true,
    "jupyter": {
     "outputs_hidden": false
    },
    "slideshow": {
     "slide_type": ""
    },
    "tags": []
   },
   "outputs": [],
   "source": [
    "%%bash\n",
    "\n",
    "kubectl port-forward -n backend svc/neoncode 8080:80"
   ]
  },
  {
   "cell_type": "markdown",
   "id": "ba58e1e6343a451b",
   "metadata": {
    "collapsed": false,
    "editable": true,
    "jupyter": {
     "outputs_hidden": false
    },
    "slideshow": {
     "slide_type": ""
    },
    "tags": []
   },
   "source": [
    "- http://localhost:8080/hello\n",
    "- http://localhost:8080/"
   ]
  },
  {
   "cell_type": "markdown",
   "id": "2688db83-3c27-400d-b7e6-fce55df80e5d",
   "metadata": {
    "collapsed": false,
    "editable": true,
    "jupyter": {
     "outputs_hidden": false
    },
    "slideshow": {
     "slide_type": "notes"
    },
    "tags": []
   },
   "source": [
    "???\n",
    "Not needed: Copy registry-cert from management namespace:\n",
    "```shell\n",
    "kubectl get secret registry-certs --namespace=management -o yaml |\n",
    "kubectl neat|\n",
    "yq e '.metadata.namespace = \"backend\"'|\n",
    "kubectl create -f -\n",
    "```"
   ]
  },
  {
   "cell_type": "markdown",
   "id": "7a6176b807182e05",
   "metadata": {
    "collapsed": false,
    "editable": true,
    "jupyter": {
     "outputs_hidden": false
    },
    "slideshow": {
     "slide_type": "slide"
    },
    "tags": []
   },
   "source": [
    "# Metrics\n",
    "\n",
    "Prometheus is configured using\n",
    "- [Prometheus Operator](https://prometheus-operator.dev/)\n",
    "- https://github.com/prometheus-operator/prometheus-operator"
   ]
  },
  {
   "cell_type": "markdown",
   "id": "784e0c2f-962e-4126-8c05-d2d781da0de0",
   "metadata": {
    "collapsed": false,
    "editable": true,
    "jupyter": {
     "outputs_hidden": false
    },
    "slideshow": {
     "slide_type": ""
    },
    "tags": []
   },
   "source": [
    "In order to keep the port-forwarding, I use screen. Have to start it manually, as jupyter does not want to run applications in the background.\n",
    "\n",
    "```\n",
    "screen -d -m -S prometheus kubectl port-forward -n monitoring svc/prometheus-k8s 9090\n",
    "screen -d -m -S grafana kubectl port-forward -n monitoring svc/grafana 3000\n",
    "```\n",
    "For convenience: http://neon.local.gd:31090/"
   ]
  },
  {
   "cell_type": "code",
   "execution_count": null,
   "id": "b80ddb26-9633-4d91-ab09-8d9769d13c0b",
   "metadata": {
    "editable": true,
    "slideshow": {
     "slide_type": "notes"
    },
    "tags": []
   },
   "outputs": [],
   "source": [
    "from IPython.display import IFrame\n",
    "IFrame(\"http://localhost:9090/alerts\", width=\"100%\", height=450)"
   ]
  },
  {
   "cell_type": "markdown",
   "id": "33936b5d-240e-4950-93f2-045d4a05ce48",
   "metadata": {
    "editable": true,
    "slideshow": {
     "slide_type": "slide"
    },
    "tags": []
   },
   "source": [
    "### Cleanup\n",
    "\n",
    "To remove the kind cluster and what that has been set up in docker:"
   ]
  },
  {
   "cell_type": "code",
   "execution_count": null,
   "id": "a98cfccd-071e-4177-891d-ae87b815446d",
   "metadata": {
    "editable": true,
    "slideshow": {
     "slide_type": ""
    },
    "tags": []
   },
   "outputs": [],
   "source": [
    "%%bash\n",
    "kind delete cluster --name=neonpandora\n",
    "docker stop kind-registry\n",
    "docker rm kind-registry"
   ]
  }
 ],
 "metadata": {
  "kernelspec": {
   "display_name": "Python 3 (ipykernel)",
   "language": "python",
   "name": "python3"
  },
  "language_info": {
   "codemirror_mode": {
    "name": "ipython",
    "version": 3
   },
   "file_extension": ".py",
   "mimetype": "text/x-python",
   "name": "python",
   "nbconvert_exporter": "python",
   "pygments_lexer": "ipython3",
   "version": "3.12.1"
  },
  "widgets": {
   "application/vnd.jupyter.widget-state+json": {
    "state": {},
    "version_major": 2,
    "version_minor": 0
   }
  }
 },
 "nbformat": 4,
 "nbformat_minor": 5
}
